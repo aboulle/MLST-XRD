{
 "cells": [
  {
   "cell_type": "code",
   "execution_count": null,
   "metadata": {
    "ExecuteTime": {
     "end_time": "2022-11-22T09:27:48.109110Z",
     "start_time": "2022-11-22T09:27:48.090956Z"
    }
   },
   "outputs": [],
   "source": [
    "%load_ext autoreload\n",
    "%autoreload 2"
   ]
  },
  {
   "cell_type": "code",
   "execution_count": null,
   "metadata": {
    "ExecuteTime": {
     "end_time": "2022-11-22T09:38:53.791486Z",
     "start_time": "2022-11-22T09:38:53.759807Z"
    },
    "code_folding": []
   },
   "outputs": [],
   "source": [
    "# load libraries\n",
    "from ipywidgets import interact, fixed, Layout\n",
    "import ipywidgets as widgets\n",
    "\n",
    "import matplotlib.pyplot as plt\n",
    "import numpy as np\n",
    "\n",
    "from time import time\n",
    "from datetime import datetime\n",
    "from multiprocessing import Pool\n",
    "from scipy.interpolate import interp1d\n",
    "from scipy.stats import skew, kurtosis\n",
    "import pickle\n",
    "import os\n",
    "\n",
    "import tensorflow as tf\n",
    "from tensorflow import keras\n",
    "from tensorflow.keras.utils import plot_model\n",
    "\n",
    "from def_strain import f_strain\n",
    "from normalize import Normalize, rescale_i\n",
    "import Gen_XRD as genx"
   ]
  },
  {
   "cell_type": "code",
   "execution_count": null,
   "metadata": {
    "ExecuteTime": {
     "end_time": "2022-11-22T09:38:55.325327Z",
     "start_time": "2022-11-22T09:38:55.296856Z"
    }
   },
   "outputs": [],
   "source": [
    "plt.rcParams['axes.labelsize'] = 10\n",
    "plt.rcParams['axes.titlesize'] = 10\n",
    "tf.keras.mixed_precision.set_global_policy(\"mixed_float16\")"
   ]
  },
  {
   "cell_type": "code",
   "execution_count": null,
   "metadata": {
    "ExecuteTime": {
     "end_time": "2022-11-22T09:39:15.827283Z",
     "start_time": "2022-11-22T09:38:57.648223Z"
    }
   },
   "outputs": [],
   "source": [
    "data_path = \"DATA PATH HERE\"\n",
    "input_size = 1001\n",
    "output_size = 14\n",
    "\n",
    "raw_train = np.load(data_path + \"/ndarray/train.npz\")\n",
    "train_data = raw_train[\"train_data\"][:,:,np.newaxis, np.newaxis] #add 2nd dimension and channel\n",
    "train_label = raw_train[\"train_label\"][:,:]\n",
    "\n",
    "#normalize labels\n",
    "normL = Normalize(train_label, norm=\"MinMax\")\n",
    "train_label = normL.forward(train_label)\n",
    "\n",
    "#Shuffle data\n",
    "indices = np.arange(train_label.shape[0])\n",
    "np.random.shuffle(indices)\n",
    "\n",
    "train_data = train_data[indices]\n",
    "train_label = train_label[indices]\n",
    "\n",
    "print(train_data.min(), train_data.max())\n",
    "print(train_label.min(), train_label.max())\n",
    "print(train_data.shape, train_label.shape)"
   ]
  },
  {
   "cell_type": "code",
   "execution_count": null,
   "metadata": {
    "ExecuteTime": {
     "end_time": "2022-11-22T09:39:27.641552Z",
     "start_time": "2022-11-22T09:39:27.425235Z"
    },
    "code_folding": [],
    "scrolled": false
   },
   "outputs": [],
   "source": [
    "## Conv net with BatchNorm\n",
    "filter_length = 15\n",
    "pool_length = 2\n",
    "activation = \"relu\"\n",
    "use_bias=True\n",
    "\n",
    "cnn = keras.models.Sequential()\n",
    "cnn.add(keras.layers.Conv2D(16, (filter_length, 1), strides=(2, 1), use_bias=False, padding='same', input_shape=(input_size, 1, 1)))\n",
    "cnn.add(keras.layers.BatchNormalization(scale=False))\n",
    "cnn.add(keras.layers.Activation(activation))\n",
    "cnn.add(keras.layers.Conv2D(16, (filter_length, 1), strides=(1, 1), use_bias=use_bias, padding='same'))\n",
    "cnn.add(keras.layers.BatchNormalization(scale=False))\n",
    "cnn.add(keras.layers.Activation(activation))\n",
    "cnn.add(keras.layers.MaxPooling2D((pool_length, 1)))\n",
    "\n",
    "cnn.add(keras.layers.Conv2D(32, (filter_length, 1), strides=(2, 1), use_bias=use_bias, padding='same'))\n",
    "cnn.add(keras.layers.BatchNormalization(scale=False))\n",
    "cnn.add(keras.layers.Activation(activation))\n",
    "cnn.add(keras.layers.Conv2D(32, (filter_length, 1), strides=(1, 1), use_bias=use_bias, padding='same'))\n",
    "cnn.add(keras.layers.BatchNormalization(scale=False))\n",
    "cnn.add(keras.layers.Activation(activation))\n",
    "cnn.add(keras.layers.MaxPooling2D((pool_length, 1)))\n",
    "\n",
    "cnn.add(keras.layers.Conv2D(64, (filter_length, 1), strides=(2, 1), use_bias=use_bias, padding='same'))\n",
    "cnn.add(keras.layers.BatchNormalization(scale=False))\n",
    "cnn.add(keras.layers.Activation(activation))\n",
    "cnn.add(keras.layers.Conv2D(64, (filter_length, 1), strides=(1, 1), use_bias=use_bias, padding='same'))\n",
    "cnn.add(keras.layers.BatchNormalization(scale=False))\n",
    "cnn.add(keras.layers.Activation(activation))\n",
    "cnn.add(keras.layers.MaxPooling2D((pool_length, 1)))\n",
    "\n",
    "cnn.add(keras.layers.Conv2D(128, (filter_length, 1), strides=(2, 1), use_bias=use_bias, padding='same'))\n",
    "cnn.add(keras.layers.BatchNormalization(scale=False))\n",
    "cnn.add(keras.layers.Activation(activation))\n",
    "cnn.add(keras.layers.Conv2D(128, (filter_length, 1), strides=(1, 1), use_bias=use_bias, padding='same'))\n",
    "cnn.add(keras.layers.BatchNormalization(scale=False))\n",
    "cnn.add(keras.layers.Activation(activation))\n",
    "cnn.add(keras.layers.MaxPooling2D((pool_length, 1)))\n",
    "\n",
    "cnn.add(keras.layers.Flatten())\n",
    "cnn.add(keras.layers.Dense(1000, use_bias=use_bias)) #expansion / mandatory\n",
    "cnn.add(keras.layers.BatchNormalization(scale=False))\n",
    "cnn.add(keras.layers.Activation(activation))\n",
    "\n",
    "cnn.add(keras.layers.Dense(100, use_bias=use_bias))\n",
    "cnn.add(keras.layers.BatchNormalization(scale=False))\n",
    "cnn.add(keras.layers.Activation(activation))\n",
    "\n",
    "cnn.add(keras.layers.Dense(output_size))\n",
    "\n",
    "cnn.compile(optimizer=keras.optimizers.RMSprop(learning_rate=1e-3), loss='mse')\n",
    "\n",
    "cnn.summary()"
   ]
  },
  {
   "cell_type": "code",
   "execution_count": null,
   "metadata": {
    "ExecuteTime": {
     "end_time": "2022-11-22T09:29:19.717083Z",
     "start_time": "2022-11-22T09:29:19.686664Z"
    }
   },
   "outputs": [],
   "source": [
    "now = datetime.now()\n",
    "s_time = now.strftime(\"%Y-%m-%d_%H-%M-%S\")\n",
    "dataset = data_path.split(\"/\")[-1]\n",
    "NAME = dataset+\"-{}\".format(s_time)\n",
    "print(NAME)"
   ]
  },
  {
   "cell_type": "code",
   "execution_count": null,
   "metadata": {
    "ExecuteTime": {
     "end_time": "2022-11-22T09:40:08.407247Z",
     "start_time": "2022-11-22T09:40:08.379267Z"
    }
   },
   "outputs": [],
   "source": [
    "callbacks_list = [\n",
    "    keras.callbacks.ReduceLROnPlateau(\n",
    "        monitor='val_loss',\n",
    "        factor=0.1,\n",
    "        patience=10,\n",
    "    ),\n",
    "        keras.callbacks.ModelCheckpoint(\n",
    "        filepath = \"./checkpoints/\"+ NAME + \"/cnn-{epoch:02d}-{val_loss:.4f}.hdf5\",\n",
    "        monitor=\"val_loss\",\n",
    "        verbose=0,\n",
    "        save_best_only=True,\n",
    "        save_weights_only=False,\n",
    "        mode=\"auto\",\n",
    "    ),\n",
    "]"
   ]
  },
  {
   "cell_type": "code",
   "execution_count": null,
   "metadata": {
    "ExecuteTime": {
     "end_time": "2022-11-22T09:41:37.537077Z",
     "start_time": "2022-11-22T09:40:15.431859Z"
    },
    "scrolled": false
   },
   "outputs": [],
   "source": [
    "save_path = \"./checkpoints/\" + NAME + \"/\"\n",
    "try:\n",
    "    os.mkdir(save_path)\n",
    "    print(\"Created output folder:\", save_path)\n",
    "except:\n",
    "    print(\"Folder already exists:\", save_path)\n",
    "    pass\n",
    "with open(save_path + NAME + \".class\", \"wb\") as f:\n",
    "    pickle.dump(normL, f)\n",
    "\n",
    "cnn_hist = cnn.fit(train_data, train_label,\n",
    "                   epochs=5,\n",
    "                   batch_size= 4096,\n",
    "                   callbacks=callbacks_list,\n",
    "                   validation_split = 0.1)"
   ]
  },
  {
   "cell_type": "code",
   "execution_count": null,
   "metadata": {
    "ExecuteTime": {
     "end_time": "2022-11-22T09:41:41.191115Z",
     "start_time": "2022-11-22T09:41:41.129909Z"
    }
   },
   "outputs": [],
   "source": [
    "%matplotlib notebook\n",
    "fig, ax1 = plt.subplots()\n",
    "ax1.semilogy(cnn_hist.history[\"loss\"])\n",
    "ax1.semilogy(cnn_hist.history[\"val_loss\"])\n",
    "\n",
    "ax2 = ax1.twinx()\n",
    "ax2.semilogy(cnn_hist.history[\"lr\"])\n",
    "\n",
    "np.savetxt(\"./checkpoints/\"+NAME+\"/history.txt\", np.column_stack((cnn_hist.history[\"loss\"], cnn_hist.history[\"val_loss\"], cnn_hist.history[\"lr\"])))"
   ]
  },
  {
   "cell_type": "code",
   "execution_count": null,
   "metadata": {
    "ExecuteTime": {
     "end_time": "2022-11-22T09:41:47.268711Z",
     "start_time": "2022-11-22T09:41:44.341309Z"
    }
   },
   "outputs": [],
   "source": [
    "# Load test set and evaluate model\n",
    "raw_test = np.load(data_path + \"/ndarray/test.npz\")\n",
    "test_data = raw_test[\"test_data\"][:,:, np.newaxis, np.newaxis]\n",
    "\n",
    "test_label = raw_test[\"test_label\"][::1]\n",
    "\n",
    "test_label = normL.forward(test_label)\n",
    "\n",
    "cnn.evaluate(test_data, test_label, batch_size= 4096)"
   ]
  },
  {
   "cell_type": "code",
   "execution_count": null,
   "metadata": {},
   "outputs": [],
   "source": []
  }
 ],
 "metadata": {
  "kernelspec": {
   "display_name": "Python 3.10.6 64-bit",
   "language": "python",
   "name": "python3"
  },
  "language_info": {
   "codemirror_mode": {
    "name": "ipython",
    "version": 3
   },
   "file_extension": ".py",
   "mimetype": "text/x-python",
   "name": "python",
   "nbconvert_exporter": "python",
   "pygments_lexer": "ipython3",
   "version": "3.10.6"
  },
  "varInspector": {
   "cols": {
    "lenName": 16,
    "lenType": 16,
    "lenVar": 40
   },
   "kernels_config": {
    "python": {
     "delete_cmd_postfix": "",
     "delete_cmd_prefix": "del ",
     "library": "var_list.py",
     "varRefreshCmd": "print(var_dic_list())"
    },
    "r": {
     "delete_cmd_postfix": ") ",
     "delete_cmd_prefix": "rm(",
     "library": "var_list.r",
     "varRefreshCmd": "cat(var_dic_list()) "
    }
   },
   "types_to_exclude": [
    "module",
    "function",
    "builtin_function_or_method",
    "instance",
    "_Feature"
   ],
   "window_display": false
  },
  "vscode": {
   "interpreter": {
    "hash": "e7370f93d1d0cde622a1f8e1c04877d8463912d04d973331ad4851f04de6915a"
   }
  }
 },
 "nbformat": 4,
 "nbformat_minor": 4
}
